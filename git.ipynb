{
 "cells": [
  {
   "cell_type": "markdown",
   "metadata": {},
   "source": [
    "#### Set Up Expo\n",
    "- in the terminal, do: npx expo start -c"
   ]
  },
  {
   "cell_type": "markdown",
   "metadata": {},
   "source": [
    "#### Import Main/Master Branch\n",
    "- to set up new project to link with git, go to cmd (not in vscode) and go to project directory, then do\n",
    "- git init\n",
    "- git remote add origin https://github.com/victorxtsai/mindwell.git\n",
    "- git add -A\n",
    "- git commit -m \"Initial commit\"\n",
    "- git push -u origin master"
   ]
  },
  {
   "cell_type": "code",
   "execution_count": 1,
   "metadata": {},
   "outputs": [
    {
     "name": "stdout",
     "output_type": "stream",
     "text": [
      "On branch master\n",
      "Your branch is up to date with 'origin/master'.\n",
      "\n",
      "Untracked files:\n",
      "  (use \"git add <file>...\" to include in what will be committed)\n",
      "\t\u001b[31mgit.ipynb\u001b[m\n",
      "\t\u001b[31mprivacy.html\u001b[m\n",
      "\n",
      "nothing added to commit but untracked files present (use \"git add\" to track)\n"
     ]
    }
   ],
   "source": [
    "!git status"
   ]
  },
  {
   "cell_type": "code",
   "execution_count": 5,
   "metadata": {},
   "outputs": [
    {
     "name": "stdout",
     "output_type": "stream",
     "text": [
      "error: Your local changes to the following files would be overwritten by checkout:\n",
      "\tgit.ipynb\n",
      "Please commit your changes or stash them before you switch branches.\n",
      "Aborting\n",
      "remote: Enumerating objects: 9, done.\u001b[K\n",
      "remote: Counting objects: 100% (9/9), done.\u001b[K\n",
      "remote: Compressing objects: 100% (5/5), done.\u001b[K\n",
      "remote: Total 7 (delta 2), reused 0 (delta 0), pack-reused 0 (from 0)\u001b[K\n",
      "Unpacking objects: 100% (7/7), 2.67 KiB | 1.33 MiB/s, done.\n",
      "From https://github.com/victorxtsai/mindwell_website\n",
      " * branch            master     -> FETCH_HEAD\n",
      "   9792af0..51a7ce8  master     -> origin/master\n",
      "Updating b87aca0..51a7ce8\n",
      "Fast-forward\n",
      " CNAME | 1 \u001b[32m+\u001b[m\n",
      " 1 file changed, 1 insertion(+)\n",
      " create mode 100644 CNAME\n",
      "On branch Update202410013a_Codespace\n",
      "Your branch is ahead of 'origin/Update202410013a_Codespace' by 3 commits.\n",
      "  (use \"git push\" to publish your local commits)\n",
      "\n",
      "Changes not staged for commit:\n",
      "  (use \"git add <file>...\" to update what will be committed)\n",
      "  (use \"git restore <file>...\" to discard changes in working directory)\n",
      "\t\u001b[31mmodified:   git.ipynb\u001b[m\n",
      "\n",
      "no changes added to commit (use \"git add\" and/or \"git commit -a\")\n"
     ]
    }
   ],
   "source": [
    "# git checkout master: switch to main branch, this makes sure you are on the main branch. If you're already there, it won't make any changes.\n",
    "# git pull origin master: pull the latest changes from the remote main branch, this command will fetch and merge the latest changes from the remote main branch into your local main branch. note that this is a combination of two commands: git fetch origin main followed by git merge origin/main\n",
    "!git checkout master\n",
    "!git pull origin master\n",
    "!git status"
   ]
  },
  {
   "cell_type": "markdown",
   "metadata": {},
   "source": [
    "#### Create New Branch"
   ]
  },
  {
   "cell_type": "code",
   "execution_count": 18,
   "metadata": {},
   "outputs": [
    {
     "name": "stdout",
     "output_type": "stream",
     "text": [
      "Switched to a new branch 'Update202410013b_Codespace'\n",
      "Update202410013b_Codespace\n"
     ]
    }
   ],
   "source": [
    "\n",
    "# create new branch\n",
    "!git checkout -b Update202410013b_Codespace\n",
    "!git branch --show-current"
   ]
  },
  {
   "cell_type": "code",
   "execution_count": 21,
   "metadata": {},
   "outputs": [
    {
     "name": "stdout",
     "output_type": "stream",
     "text": [
      "On branch Update202410013b_Codespace\n",
      "Changes not staged for commit:\n",
      "  (use \"git add <file>...\" to update what will be committed)\n",
      "  (use \"git restore <file>...\" to discard changes in working directory)\n",
      "\t\u001b[31mmodified:   git.ipynb\u001b[m\n",
      "\t\u001b[31mmodified:   index.html\u001b[m\n",
      "\n",
      "no changes added to commit (use \"git add\" and/or \"git commit -a\")\n"
     ]
    }
   ],
   "source": [
    "# see changes\n",
    "!git status"
   ]
  },
  {
   "cell_type": "markdown",
   "metadata": {},
   "source": [
    "#### Commit New Branch"
   ]
  },
  {
   "cell_type": "code",
   "execution_count": 17,
   "metadata": {},
   "outputs": [
    {
     "name": "stdout",
     "output_type": "stream",
     "text": [
      "[Update202410013a_Codespace ae6db29] Update202410013a_Codespace: Quick save.\n",
      " 2 files changed, 17 insertions(+), 13 deletions(-)\n",
      "Enumerating objects: 7, done.\n",
      "Counting objects: 100% (7/7), done.\n",
      "Delta compression using up to 2 threads\n",
      "Compressing objects: 100% (4/4), done.\n",
      "Writing objects: 100% (4/4), 723 bytes | 723.00 KiB/s, done.\n",
      "Total 4 (delta 2), reused 0 (delta 0), pack-reused 0 (from 0)\n",
      "remote: Resolving deltas: 100% (2/2), completed with 2 local objects.\u001b[K\n",
      "To https://github.com/victorxtsai/mindwell_website\n",
      "   6788ee1..ae6db29  Update202410013a_Codespace -> Update202410013a_Codespace\n",
      "branch 'Update202410013a_Codespace' set up to track 'origin/Update202410013a_Codespace'.\n"
     ]
    }
   ],
   "source": [
    "# stage, commit, push changes\n",
    "# !get add . only stages current directory\n",
    "# !get add -A stages every change\n",
    "!git add -A\n",
    "!git commit -m \"Update202410013b_Codespace: Added new logo.\"\n",
    "!git push -u origin Update202410013b_Codespace"
   ]
  }
 ],
 "metadata": {
  "kernelspec": {
   "display_name": "Python 3",
   "language": "python",
   "name": "python3"
  },
  "language_info": {
   "codemirror_mode": {
    "name": "ipython",
    "version": 3
   },
   "file_extension": ".py",
   "mimetype": "text/x-python",
   "name": "python",
   "nbconvert_exporter": "python",
   "pygments_lexer": "ipython3",
   "version": "3.12.1"
  }
 },
 "nbformat": 4,
 "nbformat_minor": 4
}
